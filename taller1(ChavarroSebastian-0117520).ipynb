{
 "cells": [
  {
   "cell_type": "code",
   "execution_count": 1,
   "metadata": {},
   "outputs": [
    {
     "name": "stdout",
     "output_type": "stream",
     "text": [
      "Ingrese el numero al cual desea calcular su valor absoluto: -95\n",
      "el valor absoluto del numero es:  95\n",
      "si desea conocer el valor absoluto de otro numero presione 1 de lo contrario presione otro digito: 3\n",
      "Fin del programa\n"
     ]
    }
   ],
   "source": [
    "''' 1. Sin utilizar el comando abs, escribir un programa que calcule e imprima el valor absoluto de cualquier número\n",
    "'''\n",
    "valor=int(input(\"Ingrese el numero al cual desea calcular su valor absoluto: \"))\n",
    "if valor <=0:\n",
    "  valor=valor*-1  \n",
    "  print(\"el valor absoluto del numero es: \", valor)\n",
    "else:\n",
    "    print(\"el valor absoluto del numero es: \", valor)\n",
    "    \n",
    "repetidor=int(input(\"si desea conocer el valor absoluto de otro numero presione 1 de lo contrario presione otro digito: \"))\n",
    "while repetidor ==1:\n",
    "   valor=int(input(\"Ingrese el numero al cual desea calcular su valor absoluto: \"))\n",
    "   if valor <=0:\n",
    "      valor=valor*-1  \n",
    "      print(\"el valor absoluto del numero es: \", valor)\n",
    "      repetidor=int(input(\"si desea conocer el valor absoluto de otro numero presione 1 de lo contrario presione otro digito: \"))\n",
    "   else:\n",
    "        print(\"el valor absoluto del numero es: \", valor) \n",
    "        repetidor=int(input(\"si desea conocer el valor absoluto de otro numero presione 1 de lo contrario presione otro digito: \"))\n",
    "print(\"Fin del programa\")\n",
    "    \n",
    "    \n",
    "    "
   ]
  },
  {
   "cell_type": "code",
   "execution_count": 2,
   "metadata": {},
   "outputs": [
    {
     "name": "stdout",
     "output_type": "stream",
     "text": [
      "Ingrese un número: 69\n",
      "El inverso del número ingresado es:  96\n"
     ]
    }
   ],
   "source": [
    "''' 2. Leer un número entero y escribirlo en reversa.\n",
    "'''\n",
    "numero= (input(\"Ingrese un número: \"))\n",
    "inverso = 0\n",
    "try:             \n",
    "    valor = int(numero)\n",
    "    while valor > 0:\n",
    "        residuo = valor % 10\n",
    "        inverso = (inverso * 10) + residuo\n",
    "        valor //= 10\n",
    "    print('El inverso del número ingresado es: ', inverso)\n",
    "except ValueError:\n",
    "    print(\"Ese número no es valido. Inténtalo de nevo !\")"
   ]
  },
  {
   "cell_type": "code",
   "execution_count": 3,
   "metadata": {},
   "outputs": [
    {
     "name": "stdout",
     "output_type": "stream",
     "text": [
      "Introduce el número: 128\n",
      "128 contiene un 8\n"
     ]
    }
   ],
   "source": [
    "''' 3. Leer un número entero de 3 dígitos y determinar si contiene el dígito 8.\n",
    "'''\n",
    "import math\n",
    "numero = int(input(\"Introduce el número: \"))\n",
    "if numero<=999 or numero>=-999:\n",
    "    a= numero / 1000\n",
    "    tmp = numero % 1000\n",
    "    b= tmp / 100\n",
    "    tmp = tmp % 100\n",
    "    c= tmp / 10\n",
    "    d= tmp % 10\n",
    "    if math.trunc(a)==8 or math.trunc(b)==8 or math.trunc(c)==8 or math.trunc(d)==8:\n",
    "        print(numero,\"contiene un 8\")\n",
    "    else:\n",
    "        print(numero,\"no contiene un 8\")"
   ]
  },
  {
   "cell_type": "code",
   "execution_count": 4,
   "metadata": {},
   "outputs": [
    {
     "name": "stdout",
     "output_type": "stream",
     "text": [
      "Ingrese un numero: 1263\n",
      "la suma de los digitos pares es 8\n"
     ]
    }
   ],
   "source": [
    "''' 4. Leer un número entero positivo y determinar la suma de sus dígitos pares.\n",
    "'''\n",
    "suma=0\n",
    "num=int(input(\"Ingrese un numero: \"))\n",
    "while(num>1):\n",
    " digito=int(num%10)\n",
    " num=num/10\n",
    " if(digito%2==0):\n",
    "  suma=suma+digito\n",
    "print(\"la suma de los digitos pares es\",suma)"
   ]
  },
  {
   "cell_type": "code",
   "execution_count": 5,
   "metadata": {},
   "outputs": [
    {
     "name": "stdout",
     "output_type": "stream",
     "text": [
      "Ingrese el limite hasta el cual desea evaluar en la serie de fibonacci: 10000\n",
      "Digite el numero que desea saber si pertenece a la serie de fibonacci: 610\n",
      "El número si pertenece a la serie de fibonacci\n"
     ]
    }
   ],
   "source": [
    "'''6. Leer un número entero y determinar si la suma de sus dígitos es un número de Fibonacci.\n",
    "'''\n",
    "n=int(input(\"Ingrese el limite hasta el cual desea evaluar en la serie de fibonacci: \"))\n",
    "def generar_fibo_mayores_a_10(limite):\n",
    "    a, b = 0, 1\n",
    "    while a < limite:\n",
    "        yield a\n",
    "        a, b = b, a + b\n",
    "\n",
    "serie = [f for f in generar_fibo_mayores_a_10(limite=n)]\n",
    "\n",
    "numero = int(input('Digite el numero que desea saber si pertenece a la serie de fibonacci: '))\n",
    "if numero>0:\n",
    "    print('El número', ('si' if numero in serie else 'no'),\n",
    "        'pertenece a la serie de fibonacci')"
   ]
  },
  {
   "cell_type": "code",
   "execution_count": 6,
   "metadata": {},
   "outputs": [
    {
     "name": "stdout",
     "output_type": "stream",
     "text": [
      "Ingrese un numero positivo: 122556\n",
      "los numeros que aparecen mas de una vez son:  ['2', '5']\n"
     ]
    }
   ],
   "source": [
    "''' 7. Leer un número entero positivo y determine si existen en el número dígitos repetidos. Reporte cuales son los dígitos\n",
    "    repetidos.\n",
    "'''\n",
    "valores = int(input(\"Ingrese un numero positivo: \"))\n",
    "if valores>0:\n",
    "    valores=str(valores)\n",
    "    repetido = []\n",
    "    unico = []\n",
    "     \n",
    "    for x in valores:\n",
    "    \tif x not in unico:\n",
    "    \t\tunico.append(x)\n",
    "    \telse:\n",
    "    \t\tif x not in repetido:\n",
    "    \t\t\trepetido.append(x)\n",
    "     \n",
    "    print (\"los numeros que aparecen mas de una vez son: \", repetido)\n",
    "else:\n",
    "    print(\"El numero que ingreso no es positivo\")"
   ]
  },
  {
   "cell_type": "code",
   "execution_count": 8,
   "metadata": {},
   "outputs": [
    {
     "name": "stdout",
     "output_type": "stream",
     "text": [
      "Los multiplos de 3 son: [0, 3, 6, 9, 12, 15, 18, 21, 24, 27, 30, 33, 36, 39, 42]\n",
      "\n",
      "Los multiplos de 4 son: [48, 52, 56, 60, 64, 68, 72, 76, 80, 84, 88, 92, 96]\n"
     ]
    }
   ],
   "source": [
    "''' 8. Iterar a través de los primeros cien enteros positivos, buscando los múltiplos de 3 e imprimiendo y almacenándolos en\n",
    "    una lista hasta encontrar los primeros 15 de ellos. Una vez encontrados, continuar iterando en busca de los múltiplos\n",
    "    de 4 y almacenarlos en otra lista.\n",
    "'''\n",
    "def multiplo(valor, multiplo):\n",
    "    \"\"\"\n",
    "    Funcion para calcular si el numero es multiplo\n",
    "    utilizando el modulo de la division\n",
    "    \"\"\"\n",
    "    resto = valor % multiplo\n",
    "    if resto == 0:\n",
    "        return True\n",
    "    else:\n",
    "        return False\n",
    " \n",
    "# lista que contendra los valores multiplos\n",
    "multiplos_3=[]\n",
    "multiplos_4=[]\n",
    " \n",
    "# bucle del 0 al 100\n",
    "for i in range(0,45):\n",
    " \n",
    "    if multiplo(i,3):\n",
    "        multiplos_3.append(i)\n",
    "for i in range(45,100):\n",
    "    if multiplo(i,4):\n",
    "        multiplos_4.append(i)\n",
    " \n",
    "print (\"Los multiplos de 3 son:\", multiplos_3)\n",
    "print (\"\")\n",
    "print (\"Los multiplos de 4 son:\", multiplos_4)"
   ]
  },
  {
   "cell_type": "code",
   "execution_count": 10,
   "metadata": {},
   "outputs": [
    {
     "name": "stdout",
     "output_type": "stream",
     "text": [
      "Ingrese Texto: HOLA hola 1234\n",
      "Vocales mayusculas: 2\n",
      "Acentos: 0\n",
      "Numeros: 4\n",
      "Espacios:  2\n"
     ]
    }
   ],
   "source": [
    "'''11. Escribir un programa que reciba una cadena de texto y reporte:\n",
    "    a) cuántas letras vocales en mayúscula se entraron.\n",
    "    b) cuántas letras con tilde se entraron (minúsculas y mayúsculas).\n",
    "    c) cuántos dígitos se entraron.\n",
    "    d) cuántos espacios se entraron.\n",
    "'''\n",
    "import re\n",
    "\n",
    "texto = str(input(\"Ingrese Texto: \"))\n",
    "\n",
    "j = 0\n",
    "for i in texto:\n",
    "    if chr(32) == i:\n",
    "        j += 1\n",
    "        \n",
    "        \n",
    "textoSoloMayusculas = re.sub('[^A,E,I,O,U]', '', texto)\n",
    "textoAcentos = re.sub('[^á-ż]', '', texto)\n",
    "textoSoloNumeros = re.sub('[^\\d]', '', texto)\n",
    "\n",
    "        \n",
    "print (\"Vocales mayusculas: \" + str(len(textoSoloMayusculas)))\n",
    "print (\"Acentos: \" + str(len(textoAcentos)))\n",
    "print (\"Numeros: \" + str(len(textoSoloNumeros)))\n",
    "print (\"Espacios: \",j)\n"
   ]
  },
  {
   "cell_type": "code",
   "execution_count": 11,
   "metadata": {},
   "outputs": [
    {
     "name": "stdout",
     "output_type": "stream",
     "text": [
      "Ingrese palabra 1: avion\n",
      "Ingrese palabra 2: barco\n",
      "\n",
      "avion Esta primero en el diccionario\n"
     ]
    }
   ],
   "source": [
    "''' 12. Hacer un programa que lea dos palabras y determine cual está primero en\n",
    "    el diccionario.\n",
    "'''\n",
    "cadena1=str(input(\"Ingrese palabra 1: \"))\n",
    "cadena2=str(input(\"Ingrese palabra 2: \"))\n",
    "print(\"\")\n",
    "if cadena1<cadena2:\n",
    "    print(cadena1, \"Esta primero en el diccionario\" )\n",
    "else:\n",
    "    print(cadena2, \"Esta primero en el diccionario\")"
   ]
  },
  {
   "cell_type": "code",
   "execution_count": 1,
   "metadata": {},
   "outputs": [
    {
     "name": "stdout",
     "output_type": "stream",
     "text": [
      "ingrese la coordena de en x_1 : 4\n",
      "ingrese la coordena de en y_1 : 4\n",
      "ingrese la magnitud del raadio_1 :2\n",
      "ingrese la coordena de en x_2 : 2\n",
      "ingrese la coordena de en y_2 : 2\n",
      "ingrese la magnitud del radio_2 :5\n",
      "ingrese cordenada a 4\n",
      "ingrese cordenada b 5\n",
      "las coordenadas ingresadas estan contenidass en la circunferencia\n",
      "terminado\n"
     ]
    }
   ],
   "source": [
    "'''9. Hacer un programa que lea las coordenadas (x1,y1,r1) y (x2,y2,r2) que corresponden al centro y al radio de dos círculos.\n",
    "    Lea un punto de coordenadas (a,b). Determina si (a,b) está contenido: a) dentro del círculo 1; b) dentro del círculo 2;\n",
    "    c) dentro de ambos círculos; d) fuera de ambos círculos.\n",
    "'''\n",
    "import math\n",
    "x_1 = int(input('ingrese la coordena de en x_1 : '))\n",
    "y_1 = int(input('ingrese la coordena de en y_1 : '))\n",
    "r_1 = int(input('ingrese la magnitud del raadio_1 :'))\n",
    "\n",
    "x_2 = int(input('ingrese la coordena de en x_2 : '))\n",
    "y_2 =  int(input('ingrese la coordena de en y_2 : '))\n",
    "r_2 =  int(input('ingrese la magnitud del radio_2 :'))\n",
    "\n",
    "a = int(input('ingrese cordenada a '))\n",
    "b = int(input('ingrese cordenada b '))\n",
    "\n",
    "d =  math.sqrt(((x_1-a)*(x_1-a))+(y_1-b)*(y_1-b))\n",
    "\n",
    "if ((d < r_1) and (d < r_2)):\n",
    "    print('las coordenadas ingresadas estan contenidass en la circunferencia')\n",
    "elif((d>r_1) and (d<r_2)):\n",
    "    print('esta contenido en circulo2')\n",
    "elif ((d < r_1) and (d > r_2)):\n",
    "    print('esta contenido en circulo1')\n",
    "elif ((d > r_1)and(d > r_2)):\n",
    "    print(' no estan contenidass en la circunferencia')\n",
    "print ('terminado')"
   ]
  },
  {
   "cell_type": "code",
   "execution_count": 4,
   "metadata": {},
   "outputs": [
    {
     "name": "stdout",
     "output_type": "stream",
     "text": [
      "ingresar un numero:1556\n",
      "este numero contiene 2 cincos concecutivos\n"
     ]
    }
   ],
   "source": [
    "'''5. Leer un número entero y determinar el número de cincos que están consecutivos en un número.\n",
    "'''\n",
    "c = 0  # contador \n",
    "b=0 #bandera\n",
    "t=0 # temporal\n",
    "x = int(input('ingresar un numero:'))          \n",
    "\n",
    "while x>0:\n",
    "    if (x%10 == 5) :  \n",
    "        c= c+1            \n",
    "        b=1\n",
    "        if c>t:\n",
    "            t=c\n",
    "    else :\n",
    "        b=0\n",
    "        c=0\n",
    "    x= int(x/10) \n",
    "\n",
    "print('este numero contiene',t ,'cincos concecutivos')\n",
    "    "
   ]
  },
  {
   "cell_type": "code",
   "execution_count": 5,
   "metadata": {},
   "outputs": [
    {
     "name": "stdout",
     "output_type": "stream",
     "text": [
      "Ingrese una frase: hola mundo\n",
      "\n",
      "\n",
      "                                             h                                              \n",
      "                                            ola                                             \n",
      "                                           mundo                                            \n",
      "                                                                                            \n",
      "                                                                                            \n",
      "                                                                                            \n",
      "                                                                                            \n",
      "                                                                                            \n"
     ]
    }
   ],
   "source": [
    "'''13. Escribir un programa que lea una cadena de texto y la imprima como un triángulo.'''\n",
    "Cd= input('Ingrese una frase: ')\n",
    "Cd_2=Cd.replace(' ','')\n",
    "print('\\n')\n",
    "\n",
    "for i in range(1,len(Cd_2)):\n",
    "    print(Cd_2[(i-1)**2:i**2].center(92))"
   ]
  },
  {
   "cell_type": "code",
   "execution_count": 6,
   "metadata": {},
   "outputs": [
    {
     "name": "stdout",
     "output_type": "stream",
     "text": [
      "Escriba una cadena de texto: hola mundo\n",
      "Su frase ordenada alfabéticamente es :\n",
      "adhlmnoou"
     ]
    }
   ],
   "source": [
    "'''14. Leer una cadena de texto y organice alfabéticamente cada una de las letras que la componen, repitiendo cada una\n",
    "    tantas veces como se encuentra.\n",
    "'''\n",
    "cd=input(\"Escriba una cadena de texto: \") \n",
    "a=[] \n",
    "Cad=cd.lower()\n",
    "\n",
    "for i in Cad: \n",
    "    x=ord(i) \n",
    "    a.append(x) \n",
    "    if x==32: \n",
    "        a.remove(x)\n",
    "    \n",
    "b=sorted(a) \n",
    "print('Su frase ordenada alfabéticamente es :')\n",
    "for i in b:\n",
    "    print(chr(i), end='') "
   ]
  },
  {
   "cell_type": "code",
   "execution_count": null,
   "metadata": {},
   "outputs": [],
   "source": []
  }
 ],
 "metadata": {
  "kernelspec": {
   "display_name": "Python 3",
   "language": "python",
   "name": "python3"
  },
  "language_info": {
   "codemirror_mode": {
    "name": "ipython",
    "version": 3
   },
   "file_extension": ".py",
   "mimetype": "text/x-python",
   "name": "python",
   "nbconvert_exporter": "python",
   "pygments_lexer": "ipython3",
   "version": "3.6.7"
  }
 },
 "nbformat": 4,
 "nbformat_minor": 2
}
